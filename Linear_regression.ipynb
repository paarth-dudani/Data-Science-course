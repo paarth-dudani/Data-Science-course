{
 "cells": [
  {
   "cell_type": "markdown",
   "metadata": {},
   "source": [
    "### Basic linear regression with synthetic data"
   ]
  },
  {
   "cell_type": "code",
   "execution_count": 147,
   "metadata": {},
   "outputs": [
    {
     "name": "stdout",
     "output_type": "stream",
     "text": [
      "1.7804851303758737 [1.78908082]\n",
      "R-square is: 0.8571356016801874\n",
      "Training error is: 0.01066999943533126\n",
      "Testing error is: 0.13213357697947492\n"
     ]
    },
    {
     "data": {
      "image/png": "[encoded data removed]",
      "text/plain": [
       "<Figure size 640x480 with 1 Axes>"
      ]
     },
     "metadata": {},
     "output_type": "display_data"
    }
   ],
   "source": [
    "import numpy as np \n",
    "import random as rd\n",
    "import matplotlib.pyplot as plt\n",
    "from sklearn.linear_model import LinearRegression\n",
    "\n",
    "x = np.arange(1, 2, 0.1)\n",
    "\n",
    "# Convert x-data into 2D column vectors \n",
    "\n",
    "x_train = x[0:int(len(x)/2)].reshape(-1,1)\n",
    "x_test = x[int(len(x)/2):len(x)].reshape(-1, 1)\n",
    "\n",
    "m = 2*rd.random()\n",
    "c = 10*rd.random()\n",
    "\n",
    "# y-data as 1D row vectors\n",
    "y = m*x+c \n",
    "y_prime = [0]*len(x)\n",
    "\n",
    "for i in range(len(x)):\n",
    "    y_prime[i] = y[i] + rd.random()\n",
    "\n",
    "y_prime = np.array(y_prime)\n",
    "\n",
    "y_train = y_prime[0:int(len(y)/2)]\n",
    "y_test = y_prime[int(len(y)/2):len(y)]\n",
    "\n",
    "\n",
    "## Linear regression model.\n",
    "\n",
    "Model = LinearRegression()\n",
    "Model = LinearRegression().fit(x_train, y_train)\n",
    "r_sq = Model.score(x_train, y_train)\n",
    "\n",
    "plt.scatter(x_train,y_train)\n",
    "\n",
    "Model_c = Model.intercept_\n",
    "Model_m = Model.coef_\n",
    "\n",
    "print(Model.intercept_,Model.coef_)\n",
    "\n",
    "y_trained = Model_m*x_train + Model_c\n",
    "\n",
    "plt.plot(x_train,y_trained)\n",
    "\n",
    "training_error = sum((y_trained.reshape(-1) - y_train)**2)/len(y_train)\n",
    "\n",
    "print('R-square is:',r_sq)\n",
    "print('Training error is:',training_error)\n",
    "\n",
    "# Predicted response\n",
    "\n",
    "y_predicted = Model_m*x_test + Model_c\n",
    "\n",
    "testing_error = sum((y_predicted.reshape(-1) - y_test)**2)/len(y_test)\n",
    "\n",
    "plt.scatter(x_test,y_test)\n",
    "plt.plot(x_test,y_predicted)\n",
    "\n",
    "print('Testing error is:',testing_error)"
   ]
  },
  {
   "cell_type": "code",
   "execution_count": 82,
   "metadata": {},
   "outputs": [
    {
     "data": {
      "text/plain": [
       "array([[0.32724944, 0.57007948],\n",
       "       [0.78488514, 0.80954067]])"
      ]
     },
     "execution_count": 82,
     "metadata": {},
     "output_type": "execute_result"
    }
   ],
   "source": [
    "rng = np.random.default_rng()\n",
    "rng.random([2,2])"
   ]
  },
  {
   "cell_type": "markdown",
   "metadata": {},
   "source": [
    "### Multivariate linear regression"
   ]
  },
  {
   "cell_type": "code",
   "execution_count": 117,
   "metadata": {},
   "outputs": [
    {
     "name": "stdout",
     "output_type": "stream",
     "text": [
      "[[-0.5         0.33333333  0.5       ]\n",
      " [ 0.25       -1.          0.5       ]\n",
      " [ 0.25        0.66666667 -1.        ]\n",
      " [ 1.          1.          1.        ]]\n"
     ]
    },
    {
     "data": {
      "text/plain": [
       "array([0.45714286, 0.25714286, 0.28571429])"
      ]
     },
     "execution_count": 117,
     "metadata": {},
     "output_type": "execute_result"
    }
   ],
   "source": [
    "import numpy as np\n",
    "\n",
    "x1 = np.array([[-1/2,1/4,1/4,1]])\n",
    "x2 = np.array([[1/3,-1,2/3,1]])\n",
    "x3 = np.array([[1/2,1/2,-1,1]])\n",
    "\n",
    "# To solve a multivariate linear regression, one has to provide the data in terms of a matrix with each column representing all the data points in first dimension. \n",
    "# Hence, an N-dimensional problem, with M features, can be solved by using a linear model with an N x M matrix representing the data.\n",
    "\n",
    "Mat = np.transpose(np.concatenate((x1,x2,x3)))\n",
    "\n",
    "Mat[:,0]\n",
    "\n",
    "print(Mat)\n",
    "\n",
    "y = np.array([0,0,0,1])\n",
    "\n",
    "Model = LinearRegression().fit(Mat, y)\n",
    "\n",
    "Model_c = Model.intercept_\n",
    "Model_pi = Model.coef_\n",
    "\n",
    "Model_pi"
   ]
  },
  {
   "cell_type": "code",
   "execution_count": 154,
   "metadata": {},
   "outputs": [
    {
     "data": {
      "text/plain": [
       "array([[1. , 0. , 0. ],\n",
       "       [0.5, 0. , 0.5],\n",
       "       [0. , 0. , 1. ]])"
      ]
     },
     "execution_count": 154,
     "metadata": {},
     "output_type": "execute_result"
    }
   ],
   "source": [
    "P = np.array([[1,0,0],[1/3,1/3,1/3],[0,0,1]])\n",
    "\n",
    "for i in range(10):\n",
    "    P = np.matmul(P,P)\n",
    "    \n",
    "P"
   ]
  }
 ],
 "metadata": {
  "kernelspec": {
   "display_name": "base",
   "language": "python",
   "name": "python3"
  },
  "language_info": {
   "codemirror_mode": {
    "name": "ipython",
    "version": 3
   },
   "file_extension": ".py",
   "mimetype": "text/x-python",
   "name": "python",
   "nbconvert_exporter": "python",
   "pygments_lexer": "ipython3",
   "version": "3.9.13"
  }
 },
 "nbformat": 4,
 "nbformat_minor": 2
}
